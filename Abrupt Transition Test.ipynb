{
 "cells": [
  {
   "cell_type": "code",
   "execution_count": 1,
   "id": "classified-numbers",
   "metadata": {},
   "outputs": [],
   "source": [
    "import json\n",
    "import numpy as np\n",
    "import cv2\n",
    "import os\n",
    "import re\n",
    "from PIL import Image\n",
    "from IPython.display import display\n",
    "\n",
    "import abrupt_transition_detection as atd\n",
    "import common\n",
    "\n",
    "import matplotlib.pyplot as plt\n",
    "from sklearn.cluster import KMeans\n",
    "from sklearn.mixture import GaussianMixture"
   ]
  },
  {
   "cell_type": "code",
   "execution_count": 2,
   "id": "quiet-accountability",
   "metadata": {},
   "outputs": [],
   "source": [
    "with open(common.ABRUPT_TRANSITION_TEST) as f:\n",
    "    at_data = json.load(f)\n",
    "\n",
    "arr = np.load(common.SCENE_TRANSITION_NPZ)\n",
    "pix_abs = arr['pix_abs']\n",
    "hist_all = arr['hist_all']\n",
    "hist_reg = arr['hist_reg']"
   ]
  },
  {
   "cell_type": "code",
   "execution_count": 3,
   "id": "presidential-scholar",
   "metadata": {},
   "outputs": [],
   "source": [
    "model_dict = {\n",
    "    'abs': {\n",
    "        'kmeans': KMeans(n_clusters=2, random_state=0).fit(np.expand_dims(pix_abs, axis=1)),\n",
    "        'gauss': GaussianMixture(n_components=2, random_state=0).fit(np.expand_dims(pix_abs, axis=1))\n",
    "    },\n",
    "    'hist-all': {\n",
    "        'kmeans': KMeans(n_clusters=2, random_state=0).fit(np.expand_dims(hist_all, axis=1)),\n",
    "        'gauss': GaussianMixture(n_components=2, random_state=0).fit(np.expand_dims(hist_all, axis=1))\n",
    "    },\n",
    "    'hist-reg': {\n",
    "        'kmeans': KMeans(n_clusters=2, random_state=0).fit(np.expand_dims(hist_reg, axis=1)),\n",
    "        'gauss': GaussianMixture(n_components=2, random_state=0).fit(np.expand_dims(hist_reg, axis=1))\n",
    "    }\n",
    "}\n",
    "\n",
    "method_keys = ['abs', 'hist-all', 'hist-reg']\n",
    "model_keys = ['kmeans', 'gauss']"
   ]
  },
  {
   "cell_type": "code",
   "execution_count": 4,
   "id": "grave-divide",
   "metadata": {},
   "outputs": [],
   "source": [
    "def test_jacc(method_key: str, model_key: str):\n",
    "    assert method_key in method_keys\n",
    "    assert model_key in model_keys\n",
    "    \n",
    "    model = model_dict[method_key][model_key]\n",
    "    no_change_class_index = model.predict([[0]])[0]\n",
    "\n",
    "    score = 0\n",
    "    total = len(at_data)\n",
    "\n",
    "    for data in at_data:\n",
    "        diff_score = atd.gen_pixel_diff(data, score_method='hist-all')['pixel_diff_score']\n",
    "        preds = model.predict(np.expand_dims(diff_score, axis=1))\n",
    "        new_score = atd.non_max_suppression(diff_score, preds, no_change_class_index)\n",
    "        new_pred = model.predict(np.expand_dims(new_score, axis=1))\n",
    "        pred_ab_change_list = [[j + 1, j + 2] for j, pred in enumerate(new_pred) if pred != no_change_class_index]\n",
    "        gt_ab_change_list = data['scene_change_pairs']\n",
    "        \n",
    "        score += atd.ab_change_jacc_score(pred_ab_change_list, gt_ab_change_list)\n",
    "\n",
    "    print(F'Jacc {method_key} - {model_key}')\n",
    "    print(F'Jacc score:  {score}')\n",
    "    print(F'Total score: {total}')\n",
    "    print(F'Norm score:  {score / total}')\n",
    "    print()\n",
    "\n",
    "\n",
    "def test_bin(method_key: str, model_key: str):\n",
    "    assert method_key in method_keys\n",
    "    assert model_key in model_keys\n",
    "    \n",
    "    model = model_dict[method_key][model_key]\n",
    "    no_change_class_index = model.predict([[0]])[0]\n",
    "\n",
    "    correct = 0\n",
    "    total = 0\n",
    "\n",
    "    for data in at_data:\n",
    "        diff_score = atd.gen_pixel_diff(data, score_method='hist-all')['pixel_diff_score']\n",
    "        preds = model.predict(np.expand_dims(diff_score, axis=1))\n",
    "        new_score = atd.non_max_suppression(diff_score, preds, no_change_class_index)\n",
    "        new_pred = model.predict(np.expand_dims(new_score, axis=1))\n",
    "        pred_ab_change_list = [[j + 1, j + 2] for j, pred in enumerate(new_pred) if pred != no_change_class_index]\n",
    "        gt_ab_change_list = data['scene_change_pairs']\n",
    "        \n",
    "        res = atd.ab_change_bin_acc(pred_ab_change_list, gt_ab_change_list)\n",
    "        correct += res[0]\n",
    "        total += res[1]\n",
    "\n",
    "    print(F'Bin {method_key} - {model_key}')\n",
    "    print(F'Correct:  {correct}')\n",
    "    print(F'Total:    {total}')\n",
    "    print(F'Avg Acc:  {correct / total}')\n",
    "    print()"
   ]
  },
  {
   "cell_type": "code",
   "execution_count": 5,
   "id": "exclusive-parker",
   "metadata": {},
   "outputs": [
    {
     "name": "stdout",
     "output_type": "stream",
     "text": [
      "Jacc abs - kmeans\n",
      "Jacc score:  2.8538023054584847\n",
      "Total score: 10\n",
      "Norm score:  0.2853802305458485\n",
      "\n",
      "Jacc abs - gauss\n",
      "Jacc score:  2.8538023054584847\n",
      "Total score: 10\n",
      "Norm score:  0.2853802305458485\n",
      "\n",
      "Jacc hist-all - kmeans\n",
      "Jacc score:  8.114505012531328\n",
      "Total score: 10\n",
      "Norm score:  0.8114505012531328\n",
      "\n",
      "Jacc hist-all - gauss\n",
      "Jacc score:  6.31907980177717\n",
      "Total score: 10\n",
      "Norm score:  0.631907980177717\n",
      "\n",
      "Jacc hist-reg - kmeans\n",
      "Jacc score:  4.001321251847568\n",
      "Total score: 10\n",
      "Norm score:  0.40013212518475677\n",
      "\n",
      "Jacc hist-reg - gauss\n",
      "Jacc score:  0.04856237816764132\n",
      "Total score: 10\n",
      "Norm score:  0.004856237816764132\n",
      "\n"
     ]
    }
   ],
   "source": [
    "for method_key in method_keys:\n",
    "    for model_key in model_keys:\n",
    "        test_jacc(method_key, model_key)"
   ]
  },
  {
   "cell_type": "code",
   "execution_count": 6,
   "id": "vietnamese-springer",
   "metadata": {},
   "outputs": [
    {
     "name": "stdout",
     "output_type": "stream",
     "text": [
      "Bin abs - kmeans\n",
      "Correct:  164\n",
      "Total:    330\n",
      "Avg Acc:  0.49696969696969695\n",
      "\n",
      "Bin abs - gauss\n",
      "Correct:  164\n",
      "Total:    330\n",
      "Avg Acc:  0.49696969696969695\n",
      "\n",
      "Bin hist-all - kmeans\n",
      "Correct:  299\n",
      "Total:    330\n",
      "Avg Acc:  0.906060606060606\n",
      "\n",
      "Bin hist-all - gauss\n",
      "Correct:  238\n",
      "Total:    330\n",
      "Avg Acc:  0.7212121212121212\n",
      "\n",
      "Bin hist-reg - kmeans\n",
      "Correct:  231\n",
      "Total:    330\n",
      "Avg Acc:  0.7\n",
      "\n",
      "Bin hist-reg - gauss\n",
      "Correct:  3\n",
      "Total:    330\n",
      "Avg Acc:  0.00909090909090909\n",
      "\n"
     ]
    }
   ],
   "source": [
    "for method_key in method_keys:\n",
    "    for model_key in model_keys:\n",
    "        test_bin(method_key, model_key)"
   ]
  },
  {
   "cell_type": "code",
   "execution_count": 7,
   "id": "geological-gazette",
   "metadata": {},
   "outputs": [],
   "source": [
    "# plt.figure(figsize=(18, 10))\n",
    "# plt.hist(all_diff_score, bins=30)\n",
    "\n",
    "# data = at_data[0]\n",
    "# diff_list = diff_score_list[0]\n",
    "# real_change = data['scene_change_pairs']\n",
    "\n",
    "# all_pairs = [[i, i + 1] for i in range(1, 174)]\n",
    "# for i, pair in enumerate(all_pairs):\n",
    "#     if pair in real_change:\n",
    "#         plt.axvline(diff_list[i], linewidth=1, color='k', linestyle='dashed')"
   ]
  },
  {
   "cell_type": "code",
   "execution_count": null,
   "id": "african-turtle",
   "metadata": {},
   "outputs": [],
   "source": []
  }
 ],
 "metadata": {
  "kernelspec": {
   "display_name": "Python 3",
   "language": "python",
   "name": "python3"
  },
  "language_info": {
   "codemirror_mode": {
    "name": "ipython",
    "version": 3
   },
   "file_extension": ".py",
   "mimetype": "text/x-python",
   "name": "python",
   "nbconvert_exporter": "python",
   "pygments_lexer": "ipython3",
   "version": "3.8.5"
  }
 },
 "nbformat": 4,
 "nbformat_minor": 5
}
