{
 "cells": [
  {
   "cell_type": "code",
   "execution_count": 1,
   "id": "wanted-graphic",
   "metadata": {},
   "outputs": [],
   "source": [
    "import json\n",
    "import time\n",
    "import subprocess\n",
    "import math\n",
    "import regex\n",
    "import sys\n",
    "import os\n",
    "\n",
    "import spacy\n",
    "from tqdm import tqdm\n",
    "from nltk.corpus import wordnet as wn\n",
    "import numpy as np\n",
    "from sklearn.model_selection import KFold\n",
    "\n",
    "from json_parser import Parser\n",
    "from common import BBT_PEOPLE, BoundingBox\n",
    "from image_processing import ObjectDetector\n",
    "import language_processing as lp\n",
    "import utils\n",
    "from utils import split_data_set\n",
    "import inference as inf"
   ]
  },
  {
   "cell_type": "code",
   "execution_count": 2,
   "id": "plain-acquisition",
   "metadata": {},
   "outputs": [],
   "source": [
    "with open('hold_base.lp') as f:\n",
    "    background_knowledge = f.read().splitlines()\n",
    "\n",
    "parser = Parser()"
   ]
  },
  {
   "cell_type": "markdown",
   "id": "clinical-strengthening",
   "metadata": {},
   "source": [
    "# With Object Detections but all questions"
   ]
  },
  {
   "cell_type": "code",
   "execution_count": 3,
   "id": "obvious-carnival",
   "metadata": {},
   "outputs": [],
   "source": [
    "def one_iter_gt(train_set, test_set):\n",
    "    # 3. Test on test set\n",
    "    jacc_score = 0\n",
    "    num_questions = 0\n",
    "    parsing_error = []\n",
    "    not_full_score = []\n",
    "    zero_score = []\n",
    "\n",
    "    for test in test_set:\n",
    "        pred_ans_idx = inf.inference(test)\n",
    "        if pred_ans_idx == [-1]:\n",
    "            parsing_error.append(test['qid'])\n",
    "            continue\n",
    "\n",
    "        score = inf.get_jaccard_score(pred_ans_idx, test)\n",
    "\n",
    "        if 0 < score < 1:\n",
    "            not_full_score.append(test['qid'])\n",
    "        elif score == 0:\n",
    "            zero_score.append(test['qid'])\n",
    "\n",
    "        jacc_score += score\n",
    "        num_questions += 1\n",
    "\n",
    "    ##########################################################\n",
    "    \n",
    "    # 4. Print out result\n",
    "    print(F'# tests:     {num_questions}')\n",
    "    print(F'jacc score:   {jacc_score}')\n",
    "    print(F'norm jacc score: {jacc_score / num_questions}')\n",
    "    print()\n",
    "\n",
    "    print('PARSING ERROR')\n",
    "    print(parsing_error)\n",
    "    print()\n",
    "\n",
    "    print('NOT FULL SCORE')\n",
    "    print(not_full_score)\n",
    "    print()\n",
    "\n",
    "    print('ZERO SCORE')\n",
    "    print(zero_score)\n",
    "    \n",
    "    return jacc_score, num_questions"
   ]
  },
  {
   "cell_type": "code",
   "execution_count": 4,
   "id": "authentic-desire",
   "metadata": {},
   "outputs": [
    {
     "name": "stdout",
     "output_type": "stream",
     "text": [
      "# total tests: 886\n"
     ]
    }
   ],
   "source": [
    "with open('hold_questions.json') as f:\n",
    "    attempted_question = json.load(f)\n",
    "\n",
    "print(F'# total tests: {len(attempted_question)}')\n",
    "\n",
    "a_q_dict = dict()\n",
    "\n",
    "for q in attempted_question:\n",
    "    qid = q['qid']\n",
    "    a_q_dict[qid] = q\n",
    "    \n",
    "kf = KFold(n_splits=5)\n",
    "kf.get_n_splits(attempted_question)\n",
    "\n",
    "splits = kf.split(attempted_question)\n",
    "\n",
    "run_id = 0\n",
    "total_jacc_score = 0\n",
    "total_questions = 0"
   ]
  },
  {
   "cell_type": "markdown",
   "id": "unexpected-tours",
   "metadata": {},
   "source": [
    "# Run 1"
   ]
  },
  {
   "cell_type": "code",
   "execution_count": 5,
   "id": "occupied-nepal",
   "metadata": {},
   "outputs": [
    {
     "name": "stdout",
     "output_type": "stream",
     "text": [
      "Total examples: 1675\n"
     ]
    }
   ],
   "source": [
    "train_index, test_index = next(splits)\n",
    "\n",
    "train_set = [attempted_question[i] for i in train_index]\n",
    "test_set = [attempted_question[i] for i in test_index]\n",
    "\n",
    "total_examples = 0\n",
    "with open('pos_eg_od_all', 'w') as out:\n",
    "    for t in train_set:\n",
    "        examples = parser.get_pos_example(t)\n",
    "        total_examples += len(examples)\n",
    "        for e in examples:\n",
    "            print(e.gen_example(), file=out)\n",
    "print(F'Total examples: {total_examples}')"
   ]
  },
  {
   "cell_type": "code",
   "execution_count": 6,
   "id": "controlling-shepherd",
   "metadata": {},
   "outputs": [
    {
     "name": "stderr",
     "output_type": "stream",
     "text": [
      "WARNING:root:Try to find 186 in ../TVQA_frames/frames_hq/bbt_frames/s07e17_seg02_clip_02/, found 0 img(s)\n",
      "WARNING:root:Try to find 180 in ../TVQA_frames/frames_hq/bbt_frames/s02e07_seg02_clip_09/, found 0 img(s)\n",
      "WARNING:root:Try to find 141 in ../TVQA_frames/frames_hq/bbt_frames/s10e07_seg02_clip_14/, found 0 img(s)\n",
      "WARNING:root:Try to find 174 in ../TVQA_frames/frames_hq/bbt_frames/s02e04_seg02_clip_04/, found 0 img(s)\n",
      "WARNING:root:Try to find 147 in ../TVQA_frames/frames_hq/bbt_frames/s02e03_seg01_clip_02/, found 0 img(s)\n",
      "WARNING:root:Try to find 148 in ../TVQA_frames/frames_hq/bbt_frames/s02e03_seg01_clip_02/, found 0 img(s)\n",
      "WARNING:root:Try to find 149 in ../TVQA_frames/frames_hq/bbt_frames/s02e03_seg01_clip_02/, found 0 img(s)\n",
      "WARNING:root:Try to find 150 in ../TVQA_frames/frames_hq/bbt_frames/s02e03_seg01_clip_02/, found 0 img(s)\n",
      "WARNING:root:Try to find 151 in ../TVQA_frames/frames_hq/bbt_frames/s02e03_seg01_clip_02/, found 0 img(s)\n",
      "WARNING:root:Try to find 152 in ../TVQA_frames/frames_hq/bbt_frames/s02e03_seg01_clip_02/, found 0 img(s)\n",
      "WARNING:root:Try to find 153 in ../TVQA_frames/frames_hq/bbt_frames/s02e03_seg01_clip_02/, found 0 img(s)\n",
      "WARNING:root:Try to find 154 in ../TVQA_frames/frames_hq/bbt_frames/s02e03_seg01_clip_02/, found 0 img(s)\n",
      "WARNING:root:Try to find 155 in ../TVQA_frames/frames_hq/bbt_frames/s02e03_seg01_clip_02/, found 0 img(s)\n",
      "WARNING:root:Try to find 156 in ../TVQA_frames/frames_hq/bbt_frames/s02e03_seg01_clip_02/, found 0 img(s)\n",
      "WARNING:root:Try to find 144 in ../TVQA_frames/frames_hq/bbt_frames/s10e12_seg02_clip_16/, found 0 img(s)\n",
      "WARNING:root:Try to find 186 in ../TVQA_frames/frames_hq/bbt_frames/s10e09_seg02_clip_00/, found 0 img(s)\n",
      "WARNING:root:Try to find 183 in ../TVQA_frames/frames_hq/bbt_frames/s02e08_seg02_clip_11/, found 0 img(s)\n"
     ]
    },
    {
     "name": "stdout",
     "output_type": "stream",
     "text": [
      "# tests:     177\n",
      "jacc score:   25.833333333333332\n",
      "norm jacc score: 0.14595103578154425\n",
      "\n",
      "PARSING ERROR\n",
      "[91833]\n",
      "\n",
      "NOT FULL SCORE\n",
      "[87060, 71186, 112266, 33374, 51101, 61212]\n",
      "\n",
      "ZERO SCORE\n",
      "[59566, 45810, 113521, 20399, 12972, 107346, 88056, 102118, 105776, 85355, 69808, 117818, 86427, 98156, 1260, 18350, 85689, 65891, 11924, 88747, 61756, 75239, 72563, 76199, 95090, 62856, 115774, 9143, 77658, 22847, 52058, 67221, 89923, 25720, 60940, 33519, 66534, 59096, 63936, 11794, 83600, 73445, 50348, 65848, 38557, 55976, 36135, 84235, 90819, 32735, 81861, 89265, 20686, 62420, 13001, 25890, 113485, 44069, 83808, 97501, 64722, 53047, 48275, 21145, 36240, 28863, 24720, 50385, 106352, 114373, 78852, 121282, 15056, 59508, 113244, 102623, 119619, 57729, 43483, 45155, 4184, 23061, 96908, 109342, 74276, 84797, 2689, 75451, 97699, 110922, 93719, 5, 20082, 76092, 101795, 25385, 79531, 96064, 40923, 87886, 4947, 19641, 38323, 46741, 16067, 34678, 21486, 94974, 67705, 26524, 77015, 120171, 82935, 62681, 119336, 118345, 18463, 33258, 1210, 112742, 63329, 66632, 120933, 5568, 92007, 15575, 41227, 81506, 12193, 71942, 78661, 108251, 113038, 91596, 121030, 37191, 2540, 49693, 61032, 13556, 50755, 53304, 79546, 33992, 121029, 3120, 7282, 91324]\n"
     ]
    }
   ],
   "source": [
    "jacc, n_q = one_iter_gt(train_set, test_set)\n",
    "total_jacc_score += jacc\n",
    "total_questions += n_q\n",
    "run_id += 1"
   ]
  },
  {
   "cell_type": "markdown",
   "id": "square-vaccine",
   "metadata": {},
   "source": [
    "# Run 2"
   ]
  },
  {
   "cell_type": "code",
   "execution_count": 7,
   "id": "acoustic-essex",
   "metadata": {},
   "outputs": [
    {
     "name": "stdout",
     "output_type": "stream",
     "text": [
      "Total examples: 1752\n"
     ]
    }
   ],
   "source": [
    "train_index, test_index = next(splits)\n",
    "\n",
    "train_set = [attempted_question[i] for i in train_index]\n",
    "test_set = [attempted_question[i] for i in test_index]\n",
    "\n",
    "total_examples = 0\n",
    "with open('pos_eg_od_all', 'w') as out:\n",
    "    for t in train_set:\n",
    "        examples = parser.get_pos_example(t)\n",
    "        total_examples += len(examples)\n",
    "        for e in examples:\n",
    "            print(e.gen_example(), file=out)\n",
    "print(F'Total examples: {total_examples}')"
   ]
  },
  {
   "cell_type": "code",
   "execution_count": 8,
   "id": "effective-triangle",
   "metadata": {},
   "outputs": [
    {
     "name": "stderr",
     "output_type": "stream",
     "text": [
      "WARNING:root:Try to find 183 in ../TVQA_frames/frames_hq/bbt_frames/s04e13_seg02_clip_16/, found 0 img(s)\n",
      "WARNING:root:Try to find 183 in ../TVQA_frames/frames_hq/bbt_frames/s02e19_seg02_clip_09/, found 0 img(s)\n",
      "WARNING:root:Try to find 189 in ../TVQA_frames/frames_hq/bbt_frames/s04e24_seg02_clip_09/, found 0 img(s)\n",
      "WARNING:root:Try to find 162 in ../TVQA_frames/frames_hq/bbt_frames/s05e13_seg02_clip_16/, found 0 img(s)\n",
      "WARNING:root:Try to find 186 in ../TVQA_frames/frames_hq/bbt_frames/s09e11_seg02_clip_05/, found 0 img(s)\n",
      "WARNING:root:Try to find 180 in ../TVQA_frames/frames_hq/bbt_frames/s08e16_seg02_clip_11/, found 0 img(s)\n",
      "WARNING:root:Try to find 117 in ../TVQA_frames/frames_hq/bbt_frames/s06e23_seg01_clip_01/, found 0 img(s)\n",
      "WARNING:root:Try to find 118 in ../TVQA_frames/frames_hq/bbt_frames/s06e23_seg01_clip_01/, found 0 img(s)\n",
      "WARNING:root:Try to find 119 in ../TVQA_frames/frames_hq/bbt_frames/s06e23_seg01_clip_01/, found 0 img(s)\n",
      "WARNING:root:Try to find 120 in ../TVQA_frames/frames_hq/bbt_frames/s06e23_seg01_clip_01/, found 0 img(s)\n",
      "WARNING:root:Try to find 121 in ../TVQA_frames/frames_hq/bbt_frames/s06e23_seg01_clip_01/, found 0 img(s)\n",
      "WARNING:root:Try to find 122 in ../TVQA_frames/frames_hq/bbt_frames/s06e23_seg01_clip_01/, found 0 img(s)\n",
      "WARNING:root:Try to find 123 in ../TVQA_frames/frames_hq/bbt_frames/s06e23_seg01_clip_01/, found 0 img(s)\n",
      "WARNING:root:Try to find 124 in ../TVQA_frames/frames_hq/bbt_frames/s06e23_seg01_clip_01/, found 0 img(s)\n",
      "WARNING:root:Try to find 125 in ../TVQA_frames/frames_hq/bbt_frames/s06e23_seg01_clip_01/, found 0 img(s)\n",
      "WARNING:root:Try to find 126 in ../TVQA_frames/frames_hq/bbt_frames/s06e23_seg01_clip_01/, found 0 img(s)\n",
      "WARNING:root:Try to find 127 in ../TVQA_frames/frames_hq/bbt_frames/s06e23_seg01_clip_01/, found 0 img(s)\n",
      "WARNING:root:Try to find 128 in ../TVQA_frames/frames_hq/bbt_frames/s06e23_seg01_clip_01/, found 0 img(s)\n",
      "WARNING:root:Try to find 129 in ../TVQA_frames/frames_hq/bbt_frames/s06e23_seg01_clip_01/, found 0 img(s)\n"
     ]
    },
    {
     "name": "stdout",
     "output_type": "stream",
     "text": [
      "# tests:     175\n",
      "jacc score:   18.2\n",
      "norm jacc score: 0.104\n",
      "\n",
      "PARSING ERROR\n",
      "[110880, 11144]\n",
      "\n",
      "NOT FULL SCORE\n",
      "[45051, 94489, 92313]\n",
      "\n",
      "ZERO SCORE\n",
      "[42696, 11219, 38543, 117851, 98141, 62360, 28697, 18612, 6362, 11182, 62985, 26312, 97683, 63749, 29481, 81523, 87077, 71987, 5267, 110190, 60166, 3969, 45475, 11773, 62904, 107593, 102399, 6840, 46461, 118476, 49279, 90868, 48663, 82495, 70204, 105178, 87330, 11340, 90114, 54306, 33094, 16559, 113051, 63962, 4864, 86360, 2952, 55624, 74212, 94366, 104234, 41489, 16316, 73478, 7006, 92779, 61564, 28475, 83645, 46906, 50677, 107768, 26555, 3888, 55063, 68703, 98433, 102236, 82301, 12408, 121993, 40122, 48865, 16606, 120084, 40517, 108591, 33635, 108395, 86452, 6457, 37000, 26737, 28731, 81555, 16543, 16213, 25318, 77621, 45011, 17084, 49879, 11818, 25729, 120460, 17278, 60626, 109039, 81406, 6555, 95158, 14956, 117669, 85515, 52057, 52359, 66631, 40707, 64244, 69168, 103903, 79944, 105204, 1173, 11128, 56330, 2029, 88847, 80467, 120777, 114436, 365, 66736, 80914, 19447, 86372, 47438, 92939, 33233, 97587, 9392, 110113, 16182, 32974, 48221, 41637, 19331, 112596, 75278, 89181, 68289, 20562, 80086, 111835, 72372, 91916, 12081, 84532, 38737, 28204, 34280, 72926, 50634, 22658, 54858]\n"
     ]
    }
   ],
   "source": [
    "jacc, n_q = one_iter_gt(train_set, test_set)\n",
    "total_jacc_score += jacc\n",
    "total_questions += n_q\n",
    "run_id += 1"
   ]
  },
  {
   "cell_type": "markdown",
   "id": "accepted-adaptation",
   "metadata": {},
   "source": [
    "# Run 3"
   ]
  },
  {
   "cell_type": "code",
   "execution_count": 9,
   "id": "acceptable-chocolate",
   "metadata": {},
   "outputs": [
    {
     "name": "stdout",
     "output_type": "stream",
     "text": [
      "Total examples: 1751\n"
     ]
    }
   ],
   "source": [
    "train_index, test_index = next(splits)\n",
    "\n",
    "train_set = [attempted_question[i] for i in train_index]\n",
    "test_set = [attempted_question[i] for i in test_index]\n",
    "\n",
    "total_examples = 0\n",
    "with open('pos_eg_od_all', 'w') as out:\n",
    "    for t in train_set:\n",
    "        examples = parser.get_pos_example(t)\n",
    "        total_examples += len(examples)\n",
    "        for e in examples:\n",
    "            print(e.gen_example(), file=out)\n",
    "print(F'Total examples: {total_examples}')"
   ]
  },
  {
   "cell_type": "code",
   "execution_count": 10,
   "id": "eight-parks",
   "metadata": {},
   "outputs": [
    {
     "name": "stderr",
     "output_type": "stream",
     "text": [
      "WARNING:root:Try to find 186 in ../TVQA_frames/frames_hq/bbt_frames/s07e02_seg02_clip_17/, found 0 img(s)\n",
      "WARNING:root:Try to find 141 in ../TVQA_frames/frames_hq/bbt_frames/s04e04_seg02_clip_16/, found 0 img(s)\n",
      "WARNING:root:Try to find 114 in ../TVQA_frames/frames_hq/bbt_frames/s08e18_seg02_clip_16/, found 0 img(s)\n",
      "WARNING:root:Try to find 115 in ../TVQA_frames/frames_hq/bbt_frames/s08e18_seg02_clip_16/, found 0 img(s)\n",
      "WARNING:root:Try to find 116 in ../TVQA_frames/frames_hq/bbt_frames/s08e18_seg02_clip_16/, found 0 img(s)\n",
      "WARNING:root:Try to find 117 in ../TVQA_frames/frames_hq/bbt_frames/s08e18_seg02_clip_16/, found 0 img(s)\n",
      "WARNING:root:Try to find 183 in ../TVQA_frames/frames_hq/bbt_frames/s09e20_seg02_clip_10/, found 0 img(s)\n",
      "WARNING:root:Try to find 174 in ../TVQA_frames/frames_hq/bbt_frames/s06e02_seg02_clip_14/, found 0 img(s)\n",
      "WARNING:root:Try to find 186 in ../TVQA_frames/frames_hq/bbt_frames/s09e05_seg02_clip_10/, found 0 img(s)\n"
     ]
    },
    {
     "name": "stdout",
     "output_type": "stream",
     "text": [
      "# tests:     177\n",
      "jacc score:   24.666666666666664\n",
      "norm jacc score: 0.13935969868173256\n",
      "\n",
      "PARSING ERROR\n",
      "[]\n",
      "\n",
      "NOT FULL SCORE\n",
      "[103234, 4797, 57218, 122032, 94793, 12883]\n",
      "\n",
      "ZERO SCORE\n",
      "[72010, 17424, 102774, 27056, 97636, 53403, 32606, 63981, 23909, 28739, 90633, 19890, 118198, 71983, 21148, 113145, 12737, 120447, 63853, 1456, 87200, 44795, 32579, 73159, 72190, 79282, 26776, 98529, 9808, 23407, 97719, 90152, 97405, 12822, 60959, 35954, 49133, 62301, 57852, 4965, 61739, 77487, 119983, 89830, 34666, 27539, 26986, 116362, 10425, 7558, 110204, 18387, 104375, 11033, 111469, 34250, 38490, 45212, 62378, 107372, 42250, 102052, 16146, 33418, 50524, 56006, 119257, 28253, 79329, 19873, 58452, 30878, 56644, 70931, 107282, 19395, 78595, 27783, 72540, 120918, 36166, 27617, 99218, 110401, 10227, 97785, 6478, 89683, 20340, 121668, 7407, 38381, 67113, 28094, 99065, 48743, 106168, 18042, 63049, 33216, 30292, 13720, 37852, 84903, 42612, 90782, 38718, 57255, 119698, 37018, 2264, 37825, 8799, 22192, 66214, 116839, 98386, 16789, 75040, 67921, 89083, 34699, 86821, 6657, 92102, 30389, 102652, 24173, 1212, 107151, 44113, 83230, 71035, 114599, 47521, 91591, 86210, 36970, 58701, 81589, 70565, 75310, 6553, 32618, 47217, 63602, 67952, 86420, 15308]\n"
     ]
    }
   ],
   "source": [
    "jacc, n_q = one_iter_gt(train_set, test_set)\n",
    "total_jacc_score += jacc\n",
    "total_questions += n_q\n",
    "run_id += 1"
   ]
  },
  {
   "cell_type": "markdown",
   "id": "strategic-clearing",
   "metadata": {},
   "source": [
    "# Run 4"
   ]
  },
  {
   "cell_type": "code",
   "execution_count": 11,
   "id": "forty-carpet",
   "metadata": {},
   "outputs": [
    {
     "name": "stdout",
     "output_type": "stream",
     "text": [
      "Total examples: 1722\n"
     ]
    }
   ],
   "source": [
    "train_index, test_index = next(splits)\n",
    "\n",
    "train_set = [attempted_question[i] for i in train_index]\n",
    "test_set = [attempted_question[i] for i in test_index]\n",
    "\n",
    "total_examples = 0\n",
    "with open('pos_eg_od_all', 'w') as out:\n",
    "    for t in train_set:\n",
    "        examples = parser.get_pos_example(t)\n",
    "        total_examples += len(examples)\n",
    "        for e in examples:\n",
    "            print(e.gen_example(), file=out)\n",
    "print(F'Total examples: {total_examples}')"
   ]
  },
  {
   "cell_type": "code",
   "execution_count": 12,
   "id": "opening-posting",
   "metadata": {},
   "outputs": [
    {
     "name": "stderr",
     "output_type": "stream",
     "text": [
      "WARNING:root:Try to find 141 in ../TVQA_frames/frames_hq/bbt_frames/s03e07_seg02_clip_14/, found 0 img(s)\n",
      "WARNING:root:Try to find 142 in ../TVQA_frames/frames_hq/bbt_frames/s03e07_seg02_clip_14/, found 0 img(s)\n",
      "WARNING:root:Try to find 143 in ../TVQA_frames/frames_hq/bbt_frames/s03e07_seg02_clip_14/, found 0 img(s)\n",
      "WARNING:root:Try to find 144 in ../TVQA_frames/frames_hq/bbt_frames/s03e07_seg02_clip_14/, found 0 img(s)\n",
      "WARNING:root:Try to find 145 in ../TVQA_frames/frames_hq/bbt_frames/s03e07_seg02_clip_14/, found 0 img(s)\n",
      "WARNING:root:Try to find 146 in ../TVQA_frames/frames_hq/bbt_frames/s03e07_seg02_clip_14/, found 0 img(s)\n",
      "WARNING:root:Try to find 147 in ../TVQA_frames/frames_hq/bbt_frames/s03e07_seg02_clip_14/, found 0 img(s)\n",
      "WARNING:root:Try to find 148 in ../TVQA_frames/frames_hq/bbt_frames/s03e07_seg02_clip_14/, found 0 img(s)\n",
      "WARNING:root:Try to find 149 in ../TVQA_frames/frames_hq/bbt_frames/s03e07_seg02_clip_14/, found 0 img(s)\n",
      "WARNING:root:Try to find 150 in ../TVQA_frames/frames_hq/bbt_frames/s03e07_seg02_clip_14/, found 0 img(s)\n",
      "WARNING:root:Try to find 183 in ../TVQA_frames/frames_hq/bbt_frames/s03e12_seg02_clip_05/, found 0 img(s)\n",
      "WARNING:root:Try to find 183 in ../TVQA_frames/frames_hq/bbt_frames/s03e10_seg02_clip_11/, found 0 img(s)\n",
      "WARNING:root:Try to find 177 in ../TVQA_frames/frames_hq/bbt_frames/s05e18_seg02_clip_04/, found 0 img(s)\n"
     ]
    },
    {
     "name": "stdout",
     "output_type": "stream",
     "text": [
      "# tests:     175\n",
      "jacc score:   22.833333333333336\n",
      "norm jacc score: 0.1304761904761905\n",
      "\n",
      "PARSING ERROR\n",
      "[5374, 64394]\n",
      "\n",
      "NOT FULL SCORE\n",
      "[28409, 101233, 34859, 115405]\n",
      "\n",
      "ZERO SCORE\n",
      "[19198, 114860, 84213, 61908, 105728, 37898, 94232, 88824, 39137, 120414, 42357, 54981, 97148, 67312, 100741, 73287, 2872, 108741, 46674, 112848, 56350, 48878, 85009, 60504, 100045, 58347, 112609, 13989, 42604, 98014, 119541, 111420, 69882, 115386, 41401, 81602, 104181, 49212, 91477, 14484, 120859, 67294, 112558, 623, 26833, 110723, 94646, 93525, 90459, 96813, 43717, 79516, 35102, 55286, 41594, 70674, 116403, 121017, 13796, 97737, 61319, 34059, 16591, 7398, 38580, 30067, 16523, 56324, 109817, 82810, 10823, 101636, 106338, 5000, 47714, 99219, 70136, 14594, 61614, 100757, 42286, 42003, 78783, 38768, 115726, 109566, 28343, 56471, 10674, 24484, 10881, 74665, 53395, 121644, 103248, 1120, 100561, 22928, 49397, 75625, 29251, 54038, 43129, 11713, 1112, 59317, 29320, 57365, 36078, 48468, 110919, 42795, 47096, 62756, 59123, 27166, 3756, 78301, 4770, 94122, 10199, 92516, 10847, 57838, 91217, 34462, 90367, 108566, 98038, 33035, 64750, 60429, 45343, 111187, 50977, 102598, 119756, 89700, 88419, 65229, 58475, 66530, 73907, 16643, 9177, 113420, 92557, 117325, 2179, 101976]\n"
     ]
    }
   ],
   "source": [
    "jacc, n_q = one_iter_gt(train_set, test_set)\n",
    "total_jacc_score += jacc\n",
    "total_questions += n_q\n",
    "run_id += 1"
   ]
  },
  {
   "cell_type": "markdown",
   "id": "hungry-mongolia",
   "metadata": {},
   "source": [
    "# Run 5"
   ]
  },
  {
   "cell_type": "code",
   "execution_count": 13,
   "id": "falling-portugal",
   "metadata": {},
   "outputs": [
    {
     "name": "stdout",
     "output_type": "stream",
     "text": [
      "Total examples: 1760\n"
     ]
    }
   ],
   "source": [
    "train_index, test_index = next(splits)\n",
    "\n",
    "train_set = [attempted_question[i] for i in train_index]\n",
    "test_set = [attempted_question[i] for i in test_index]\n",
    "\n",
    "total_examples = 0\n",
    "with open('pos_eg_od_all', 'w') as out:\n",
    "    for t in train_set:\n",
    "        examples = parser.get_pos_example(t)\n",
    "        total_examples += len(examples)\n",
    "        for e in examples:\n",
    "            print(e.gen_example(), file=out)\n",
    "print(F'Total examples: {total_examples}')"
   ]
  },
  {
   "cell_type": "code",
   "execution_count": 14,
   "id": "about-indonesian",
   "metadata": {},
   "outputs": [
    {
     "name": "stderr",
     "output_type": "stream",
     "text": [
      "WARNING:root:Try to find 174 in ../TVQA_frames/frames_hq/bbt_frames/s04e03_seg02_clip_06/, found 0 img(s)\n",
      "WARNING:root:Try to find 177 in ../TVQA_frames/frames_hq/bbt_frames/s08e15_seg02_clip_05/, found 0 img(s)\n",
      "WARNING:root:Try to find 177 in ../TVQA_frames/frames_hq/bbt_frames/s02e16_seg02_clip_13/, found 0 img(s)\n",
      "WARNING:root:Try to find 180 in ../TVQA_frames/frames_hq/bbt_frames/s06e01_seg02_clip_14/, found 0 img(s)\n",
      "WARNING:root:Try to find 180 in ../TVQA_frames/frames_hq/bbt_frames/s04e16_seg02_clip_09/, found 0 img(s)\n",
      "WARNING:root:Try to find 258 in ../TVQA_frames/frames_hq/bbt_frames/s04e22_seg02_clip_16/, found 0 img(s)\n",
      "WARNING:root:Try to find 189 in ../TVQA_frames/frames_hq/bbt_frames/s04e04_seg01_clip_00/, found 0 img(s)\n"
     ]
    },
    {
     "name": "stdout",
     "output_type": "stream",
     "text": [
      "# tests:     175\n",
      "jacc score:   20.5\n",
      "norm jacc score: 0.11714285714285715\n",
      "\n",
      "PARSING ERROR\n",
      "[56128, 116486]\n",
      "\n",
      "NOT FULL SCORE\n",
      "[82991, 5164, 90225]\n",
      "\n",
      "ZERO SCORE\n",
      "[69409, 44553, 16272, 40734, 69955, 54160, 50225, 113117, 4981, 101014, 43324, 33554, 580, 105758, 121269, 74869, 26504, 17298, 14773, 50297, 93301, 32889, 99745, 56096, 39904, 13292, 112862, 24971, 24144, 3796, 37031, 103778, 10649, 14277, 62242, 85532, 49716, 104027, 37284, 96969, 36414, 71850, 7962, 27275, 382, 14598, 48488, 9144, 95907, 78086, 120803, 96426, 77337, 18666, 79162, 31821, 60979, 72501, 112001, 87305, 94077, 42450, 101975, 67727, 74316, 74333, 28686, 19619, 27641, 65163, 677, 6753, 91784, 63786, 121553, 64344, 57942, 276, 53332, 25490, 40831, 60650, 58383, 17776, 35869, 42970, 64959, 40973, 84175, 77168, 51923, 119537, 93656, 1050, 78049, 64124, 41402, 51147, 66679, 101590, 14167, 15328, 25267, 101019, 45751, 87754, 84617, 114725, 40491, 106967, 93582, 32721, 91821, 39728, 101221, 81232, 26395, 45905, 3564, 80819, 57535, 96364, 115705, 61787, 47060, 19711, 25894, 119307, 108112, 77912, 42072, 22528, 46788, 30903, 13911, 63548, 81242, 117755, 79704, 57136, 117747, 101355, 121820, 27411, 109516, 107173, 30481, 47105, 60915, 14988, 87, 9926, 114775]\n"
     ]
    }
   ],
   "source": [
    "jacc, n_q = one_iter_gt(train_set, test_set)\n",
    "total_jacc_score += jacc\n",
    "total_questions += n_q\n",
    "run_id += 1"
   ]
  },
  {
   "cell_type": "code",
   "execution_count": 15,
   "id": "rapid-entertainment",
   "metadata": {},
   "outputs": [
    {
     "name": "stdout",
     "output_type": "stream",
     "text": [
      "Total jacc score: 112.03333333333333\n",
      "Total questions:  879\n",
      "Avg norm jacc:    0.12745544178991278\n"
     ]
    }
   ],
   "source": [
    "print(F'Total jacc score: {total_jacc_score}')\n",
    "print(F'Total questions:  {total_questions}')\n",
    "print(F'Avg norm jacc:    {total_jacc_score /  total_questions}')\n"
   ]
  },
  {
   "cell_type": "code",
   "execution_count": null,
   "id": "neutral-excitement",
   "metadata": {},
   "outputs": [],
   "source": []
  },
  {
   "cell_type": "code",
   "execution_count": null,
   "id": "civilian-botswana",
   "metadata": {},
   "outputs": [],
   "source": [
    "from image_processing import draw_bounding_box\n",
    "from PIL import Image\n",
    "from IPython.display import display\n",
    "\n",
    "\n",
    "test = a_q_dict[25720]\n",
    "\n",
    "# time_span_to_timestamps_list(test)\n",
    "vid_folder = frame_folder + test['vid_name'] + '/'\n",
    "\n",
    "time = 30\n",
    "qa_objects = od.get_frame_qa_objects(vid_folder, 0.7, time)\n",
    "bboxes = [o.bbox for o in qa_objects]\n",
    "display(Image.fromarray(draw_bounding_box(vid_folder + F'000{time}.jpg', bboxes)))"
   ]
  }
 ],
 "metadata": {
  "kernelspec": {
   "display_name": "Python 3",
   "language": "python",
   "name": "python3"
  },
  "language_info": {
   "codemirror_mode": {
    "name": "ipython",
    "version": 3
   },
   "file_extension": ".py",
   "mimetype": "text/x-python",
   "name": "python",
   "nbconvert_exporter": "python",
   "pygments_lexer": "ipython3",
   "version": "3.8.5"
  }
 },
 "nbformat": 4,
 "nbformat_minor": 5
}
